{
  "cells": [
    {
      "cell_type": "markdown",
      "metadata": {
        "id": "view-in-github",
        "colab_type": "text"
      },
      "source": [
        "<a href=\"https://colab.research.google.com/github/JoaoGabini/PA2025/blob/main/estudo/Prova_Estudo.ipynb\" target=\"_parent\"><img src=\"https://colab.research.google.com/assets/colab-badge.svg\" alt=\"Open In Colab\"/></a>"
      ]
    },
    {
      "cell_type": "markdown",
      "metadata": {
        "id": "sI_dr3AuPmP-"
      },
      "source": [
        "##1) MOSTRAR TODOS OS NÚMEROS ÍMPARES DE 1 A 30\n",
        "Escreva um algoritmo que leia 20 valores inteiros e ao final exiba:\n",
        "\n",
        "a) a soma dos números positivos;\n",
        "\n",
        "b) a quantidade de valores negativos."
      ]
    },
    {
      "cell_type": "code",
      "execution_count": null,
      "metadata": {
        "colab": {
          "base_uri": "https://localhost:8080/"
        },
        "id": "e4Rd50lcX0Sm",
        "outputId": "bbe84af5-98b2-41dc-ed2d-c08510647c3e"
      },
      "outputs": [
        {
          "name": "stdout",
          "output_type": "stream",
          "text": [
            "45 11\n"
          ]
        }
      ],
      "source": [
        "soma= 0\n",
        "qtd= 0\n",
        "\n",
        "for i in range(-10,10):\n",
        "  if i > 0:\n",
        "    soma= soma+i\n",
        "  else:\n",
        "    qtd= qtd+1\n",
        "print(soma, qtd)"
      ]
    },
    {
      "cell_type": "markdown",
      "metadata": {
        "id": "AYDFDxxWY8nZ"
      },
      "source": [
        "##2) CONTADOR DE UM NÚMERO INCIAL E UM NÚMERO FINAL DIGITADOS PELO USUÁRIO\n"
      ]
    },
    {
      "cell_type": "code",
      "execution_count": null,
      "metadata": {
        "colab": {
          "base_uri": "https://localhost:8080/"
        },
        "id": "VLZHZh5SZGMv",
        "outputId": "efb8bdea-fb07-4cbb-cab5-54506c62d90e"
      },
      "outputs": [
        {
          "name": "stdout",
          "output_type": "stream",
          "text": [
            "Digite um valor inicial: 10\n",
            "Digite um valor final: 20\n",
            "10\n",
            "11\n",
            "12\n",
            "13\n",
            "14\n",
            "15\n",
            "16\n",
            "17\n",
            "18\n",
            "19\n",
            "20\n"
          ]
        }
      ],
      "source": [
        "esc_i= int(input(\"Digite um valor inicial: \"))\n",
        "esc_f= int(input(\"Digite um valor final: \"))\n",
        "\n",
        "for i in range(esc_i, esc_f+1):\n",
        "  print(i)"
      ]
    },
    {
      "cell_type": "markdown",
      "metadata": {
        "id": "yWQUmozEZ_rd"
      },
      "source": [
        "##3) SOME TODOS OS NÚMEROS DE 1 A 10"
      ]
    },
    {
      "cell_type": "code",
      "execution_count": null,
      "metadata": {
        "colab": {
          "base_uri": "https://localhost:8080/"
        },
        "id": "RA276GPEaC8o",
        "outputId": "2ee06618-989f-4ed0-a564-8145c985b3ff"
      },
      "outputs": [
        {
          "name": "stdout",
          "output_type": "stream",
          "text": [
            "55\n"
          ]
        }
      ],
      "source": [
        "soma= 0\n",
        "\n",
        "for i in range(1,11):\n",
        "  soma= i+soma\n",
        "print(soma)"
      ]
    },
    {
      "cell_type": "markdown",
      "metadata": {
        "id": "aAwmDT94ar_L"
      },
      "source": [
        "##4) USANDO O WHILE PERGUNTE AO USUÁRIO QUAL A MELHOR ESCOLHA DE RIBEIRÃO PIRES, ENQUANTO A PESSOA NÃO DIGITAR \"ETEC MCM\", ENQUANTO NÃO DIGITA CERTO ELE VAI INFORMANDO QUE O USUÁRIO ERROU"
      ]
    },
    {
      "cell_type": "code",
      "execution_count": null,
      "metadata": {
        "colab": {
          "base_uri": "https://localhost:8080/"
        },
        "id": "ugH1uqM8awlA",
        "outputId": "b166deca-5160-491f-ab47-0b7fdb0a40e1"
      },
      "outputs": [
        {
          "name": "stdout",
          "output_type": "stream",
          "text": [
            "Qual a melhor escola de ribeirão pires: Pastana\n",
            "--------------------\n",
            "Escolha Errada! Tente Novamente!\n",
            "--------------------\n",
            "Qual a melhor escola de ribeirão pires: Etec MCM\n",
            "--------------------\n",
            "Escolha Certa!\n",
            "--------------------\n"
          ]
        }
      ],
      "source": [
        "loop= 0\n",
        "\n",
        "while loop ==0:\n",
        "  esc= str(input(\"Qual a melhor escola de ribeirão pires: \"))\n",
        "  if esc == \"Etec MCM\":\n",
        "    print(\"--------------------\")\n",
        "    print(\"Escolha Certa!\")\n",
        "    print(\"--------------------\")\n",
        "    break\n",
        "  else:\n",
        "    print(\"--------------------\")\n",
        "    print(\"Escolha Errada! Tente Novamente!\")\n",
        "    print(\"--------------------\")"
      ]
    },
    {
      "cell_type": "markdown",
      "metadata": {
        "id": "WgLl33Uzb247"
      },
      "source": [
        "##5) Receba um número, verifique se é diferente de zero, caso seja diferente,continue retornando falso até que ele digite esse valor."
      ]
    },
    {
      "cell_type": "code",
      "execution_count": null,
      "metadata": {
        "colab": {
          "base_uri": "https://localhost:8080/"
        },
        "id": "OC0f7lgCb30y",
        "outputId": "08e2e771-9707-4ea3-c213-ba5125b13191"
      },
      "outputs": [
        {
          "name": "stdout",
          "output_type": "stream",
          "text": [
            "Digite o Número Desejado:1\n",
            "Tente De Novo!\n",
            "Digite o Número Desejado:4\n",
            "Tente De Novo!\n",
            "Digite o Número Desejado:3\n",
            "Tente De Novo!\n",
            "Digite o Número Desejado:2.5\n",
            "Tente De Novo!\n",
            "Digite o Número Desejado:-1\n",
            "Tente De Novo!\n",
            "Digite o Número Desejado:999999\n",
            "Tente De Novo!\n",
            "Digite o Número Desejado:0\n",
            "Número Correto!\n"
          ]
        }
      ],
      "source": [
        "num_usuario= float(input(\"Digite o Número Desejado:\"))\n",
        "\n",
        "while num_usuario != 0:\n",
        "  print(\"Tente De Novo!\")\n",
        "  num_usuario= float(input(\"Digite o Número Desejado:\"))\n",
        "else:\n",
        "  print(\"Número Correto!\")"
      ]
    },
    {
      "cell_type": "markdown",
      "metadata": {
        "id": "eUlozIbfOR3n"
      },
      "source": [
        "##6) SOMAR NÚMEROS ATÉ QUE O USUÁRIO DIGITE 0"
      ]
    },
    {
      "cell_type": "code",
      "execution_count": null,
      "metadata": {
        "colab": {
          "base_uri": "https://localhost:8080/"
        },
        "id": "WFJdY7wGOXVX",
        "outputId": "d85baeec-f50c-43f2-9212-a2d276d8bf18"
      },
      "outputs": [
        {
          "name": "stdout",
          "output_type": "stream",
          "text": [
            "Digite um Número: 10\n",
            "10.0\n",
            "Digite um Número: 20\n",
            "30.0\n",
            "Digite um Número: 30\n",
            "60.0\n",
            "Digite um Número: -2\n",
            "58.0\n",
            "Digite um Número: 2.5\n",
            "60.5\n",
            "Digite um Número: 0\n",
            "Loop Terminado!\n"
          ]
        }
      ],
      "source": [
        "soma= 0\n",
        "num= float(input(\"Digite um Número: \"))\n",
        "\n",
        "while num != 0:\n",
        "  soma= num+soma\n",
        "  print(soma)\n",
        "  num= float(input(\"Digite um Número: \"))\n",
        "else:\n",
        "  print(\"Loop Terminado!\")"
      ]
    },
    {
      "cell_type": "markdown",
      "metadata": {
        "id": "gjQ3ebmyOhbo"
      },
      "source": [
        "##7) CRIE UM MENU DE OPÇÕES, COM 3 OPÇÕES,E ELE VAI SOLICITANDO NOVAMENTE A OPÇÕES ATÉ QUE O USUÁRIO ESCOLHA A OPÇÃO SAIR"
      ]
    },
    {
      "cell_type": "code",
      "execution_count": null,
      "metadata": {
        "colab": {
          "base_uri": "https://localhost:8080/"
        },
        "id": "egKWZA4VOlaQ",
        "outputId": "d5877497-e159-4f46-8a42-6c1f9ff48254"
      },
      "outputs": [
        {
          "name": "stdout",
          "output_type": "stream",
          "text": [
            "Seja Bem Vindo ao Nosso Menu!\n",
            "Escolha uma dessas opções: \n",
            "Digite 1 para Receber uma Frase \n",
            "Digite 2 para Receber um Número \n",
            "Digite 3 para Sair 1\n",
            "--------------------------\n",
            "Bom Dia, Tenha um Ótimo Dia!\n",
            "--------------------------\n",
            "Seja Bem Vindo ao Nosso Menu!\n",
            "Escolha uma dessas opções: \n",
            "Digite 1 para Receber uma Frase \n",
            "Digite 2 para Receber um Número \n",
            "Digite 3 para Sair 2\n",
            "--------------------------\n",
            "23456\n",
            "--------------------------\n",
            "Seja Bem Vindo ao Nosso Menu!\n",
            "Escolha uma dessas opções: \n",
            "Digite 1 para Receber uma Frase \n",
            "Digite 2 para Receber um Número \n",
            "Digite 3 para Sair 4\n",
            "--------------------------\n",
            "Opção Inválida! Tente Novamente!\n",
            "--------------------------\n",
            "Seja Bem Vindo ao Nosso Menu!\n",
            "Escolha uma dessas opções: \n",
            "Digite 1 para Receber uma Frase \n",
            "Digite 2 para Receber um Número \n",
            "Digite 3 para Sair 3\n",
            "Saindo!\n"
          ]
        }
      ],
      "source": [
        "usuario= \" \"\n",
        "\n",
        "while usuario != \"1\":\n",
        "  print(\"Seja Bem Vindo ao Nosso Menu!\")\n",
        "  usuario= int(input(\"Escolha uma dessas opções: \\nDigite 1 para Receber uma Frase \\nDigite 2 para Receber um Número \\nDigite 3 para Sair \"))\n",
        "  if usuario == 1:\n",
        "    print(\"--------------------------\")\n",
        "    print(\"Bom Dia, Tenha um Ótimo Dia!\")\n",
        "    print(\"--------------------------\")\n",
        "  elif usuario == 2:\n",
        "    print(\"--------------------------\")\n",
        "    print(23456)\n",
        "    print(\"--------------------------\")\n",
        "  elif usuario == 3:\n",
        "    print(\"Saindo!\")\n",
        "    break\n",
        "  else:\n",
        "    print(\"--------------------------\")\n",
        "    print(\"Opção Inválida! Tente Novamente!\")\n",
        "    print(\"--------------------------\")"
      ]
    },
    {
      "cell_type": "markdown",
      "metadata": {
        "id": "zBDhAwqtO0bC"
      },
      "source": [
        "##8) Faça um programa que mostre os n termos da Série a seguir e realize o cálculo\n",
        "###Solicite ao usuário a quantidade de repetições\n",
        "\n",
        "s = (1/1)+(2/3)+(3/5)+(4/7)+...+...n/m"
      ]
    },
    {
      "cell_type": "code",
      "execution_count": null,
      "metadata": {
        "colab": {
          "base_uri": "https://localhost:8080/"
        },
        "id": "s8cSxsqSO7ah",
        "outputId": "3a32e931-78c9-4c6f-cf2f-98fb829a019f"
      },
      "outputs": [
        {
          "name": "stdout",
          "output_type": "stream",
          "text": [
            "Digite quantas vezes deseja ser repetido: 5\n",
            "1 1\n",
            "1.00\n",
            "2 3\n",
            "1.67\n",
            "3 5\n",
            "2.27\n",
            "4 7\n",
            "2.84\n",
            "5 9\n",
            "3.39\n"
          ]
        }
      ],
      "source": [
        "qtd= int(input(\"Digite quantas vezes deseja ser repetido: \"))\n",
        "denominador= 1\n",
        "soma= 0\n",
        "\n",
        "for numerador in range(1,qtd+1):\n",
        "  print(numerador, denominador)\n",
        "  divisao= numerador/denominador\n",
        "  soma= divisao+soma\n",
        "  denominador= denominador+2\n",
        "  print(f\"{soma:.2f}\")"
      ]
    },
    {
      "cell_type": "markdown",
      "metadata": {
        "id": "ldqNwQ9iPD35"
      },
      "source": [
        "# Lista Márcio"
      ]
    },
    {
      "cell_type": "markdown",
      "metadata": {
        "id": "NMtFe5W2PgH2"
      },
      "source": [
        "#1) Soma dos números de uma lista\n",
        "Dada a lista numeros = [3, 7, 2, 8, 10], use um for para calcular a soma de todos os elementos."
      ]
    },
    {
      "cell_type": "code",
      "execution_count": null,
      "metadata": {
        "colab": {
          "base_uri": "https://localhost:8080/"
        },
        "id": "pDLyKFCsPHt9",
        "outputId": "bd452514-12ba-4d32-917e-98d303552f59"
      },
      "outputs": [
        {
          "name": "stdout",
          "output_type": "stream",
          "text": [
            "30\n"
          ]
        }
      ],
      "source": [
        "lista= [3,7,2,8,10]\n",
        "soma= 0\n",
        "\n",
        "for i in lista:\n",
        "  soma= soma+i\n",
        "\n",
        "print(soma)"
      ]
    },
    {
      "cell_type": "markdown",
      "metadata": {
        "id": "9KU9wFDBPkHL"
      },
      "source": [
        "#2) Contagem de vogais em uma string\n",
        "Peça uma palavra ao usuário e use um for para contar quantas vogais (a, e, i, o, u) existem.\n"
      ]
    },
    {
      "cell_type": "code",
      "execution_count": null,
      "metadata": {
        "colab": {
          "base_uri": "https://localhost:8080/"
        },
        "id": "XPnLqM61PmdQ",
        "outputId": "c160f974-3ea6-4f99-b4ef-4730664fea7e"
      },
      "outputs": [
        {
          "name": "stdout",
          "output_type": "stream",
          "text": [
            "Digite uma Palavra: arroz\n",
            "A frase tem 2 vogais\n"
          ]
        }
      ],
      "source": [
        "palavra = str(input(\"Digite uma Palavra: \")).lower()\n",
        "vogais= \"aeiouáéíóú\"\n",
        "total=0\n",
        "\n",
        "for caracter in palavra:\n",
        "  if caracter in vogais:\n",
        "    total= total+1\n",
        "\n",
        "print(\"A frase tem\", total,\"vogais\")"
      ]
    },
    {
      "cell_type": "markdown",
      "metadata": {
        "id": "ciA6TQqxPwrW"
      },
      "source": [
        "#3) Inverter lista usando while\n",
        "Dada a lista nomes = [\"Ana\", \"João\", \"Carlos\", \"Maria\"], use um while para inverter a ordem dos elementos (sem usar reverse() ou slicing)."
      ]
    },
    {
      "cell_type": "code",
      "execution_count": null,
      "metadata": {
        "colab": {
          "base_uri": "https://localhost:8080/"
        },
        "id": "8ss9tPuQPy2X",
        "outputId": "d36ef7f0-2195-4ee7-ba67-dafb6689f407"
      },
      "outputs": [
        {
          "name": "stdout",
          "output_type": "stream",
          "text": [
            "['Maria', 'Carlos', 'João', 'Ana']\n"
          ]
        }
      ],
      "source": [
        "nomes = [\"Ana\", \"João\", \"Carlos\", \"Maria\"]\n",
        "\n",
        "while nomes != \"0\":\n",
        "  nome_inv= [nomes[-1],nomes[-2],nomes[-3],nomes[-4]]\n",
        "  print(nome_inv)\n",
        "  break"
      ]
    },
    {
      "cell_type": "markdown",
      "metadata": {
        "id": "1-8Yhsw9P6Il"
      },
      "source": [
        "#4) Maior número em uma lista\n",
        "Escreva um programa que percorra uma lista de inteiros e encontre o maior valor."
      ]
    },
    {
      "cell_type": "code",
      "execution_count": null,
      "metadata": {
        "colab": {
          "base_uri": "https://localhost:8080/"
        },
        "id": "7UQlQGiAP89r",
        "outputId": "f9176184-c061-4de0-c11e-ec7396696496"
      },
      "outputs": [
        {
          "name": "stdout",
          "output_type": "stream",
          "text": [
            "O maior número é 90\n"
          ]
        }
      ],
      "source": [
        "numeros= [6,90,30,-20,68]\n",
        "maior=0\n",
        "\n",
        "for i in numeros:\n",
        "  while i> maior:\n",
        "    maior = i\n",
        "    break\n",
        "\n",
        "print(\"O maior número é\",maior)"
      ]
    },
    {
      "cell_type": "markdown",
      "metadata": {
        "id": "cqU_okDwQHaB"
      },
      "source": [
        "#5) Remover elementos repetidos de uma lista\n",
        "Usando um for, percorra a lista valores = [1, 2, 2, 3, 4, 4, 5] e crie uma nova lista apenas com elementos únicos."
      ]
    },
    {
      "cell_type": "code",
      "execution_count": null,
      "metadata": {
        "colab": {
          "base_uri": "https://localhost:8080/"
        },
        "id": "hTtyVASTQKIM",
        "outputId": "b392098f-8363-4b9a-abc7-5af40a9839ac"
      },
      "outputs": [
        {
          "name": "stdout",
          "output_type": "stream",
          "text": [
            "[1, 2, 3, 4, 5]\n"
          ]
        }
      ],
      "source": [
        "valor = [1, 2, 2, 3, 4, 4, 5]\n",
        "num_unico=[]\n",
        "\n",
        "for numero in valor:\n",
        "  if numero not in num_unico:\n",
        "    num_unico.append(numero)\n",
        "\n",
        "print(num_unico)"
      ]
    },
    {
      "cell_type": "markdown",
      "metadata": {
        "id": "CwlTsgb2QOwM"
      },
      "source": [
        "#6)Verificar se palavra é palíndromo\n",
        "Peça uma palavra ao usuário e use while ou for para verificar se ela é igual de frente para trás (ex.: \"arara\")."
      ]
    },
    {
      "cell_type": "code",
      "execution_count": null,
      "metadata": {
        "colab": {
          "base_uri": "https://localhost:8080/"
        },
        "id": "zNEFC26iQRpy",
        "outputId": "2a78996e-b64a-46d5-d17a-f99a4033cff9"
      },
      "outputs": [
        {
          "name": "stdout",
          "output_type": "stream",
          "text": [
            "Digite uma Palavra: gato\n",
            "Ela não é Palíndroma!\n"
          ]
        }
      ],
      "source": [
        "palavra= str(input(\"Digite uma Palavra: \"))\n",
        "\n",
        "while palavra == palavra[::-1]:\n",
        "  print(\"Ela é Palíndroma!\")\n",
        "  break\n",
        "else:\n",
        "  print(\"Ela não é Palíndroma!\")"
      ]
    },
    {
      "cell_type": "markdown",
      "metadata": {
        "id": "7eG4aTSPQXzZ"
      },
      "source": [
        "#7) Contagem regressiva com while\n",
        "\n",
        "Peça ao usuário um número e faça uma contagem regressiva até 0."
      ]
    },
    {
      "cell_type": "code",
      "execution_count": null,
      "metadata": {
        "colab": {
          "base_uri": "https://localhost:8080/"
        },
        "id": "ZbMk-35dQbA5",
        "outputId": "934f594c-2ced-485b-e552-d595a2817aa7"
      },
      "outputs": [
        {
          "name": "stdout",
          "output_type": "stream",
          "text": [
            "Digite um número: 10\n",
            "10\n",
            "9\n",
            "8\n",
            "7\n",
            "6\n",
            "5\n",
            "4\n",
            "3\n",
            "2\n",
            "1\n",
            "0\n"
          ]
        }
      ],
      "source": [
        "num= int(input(\"Digite um número: \"))\n",
        "\n",
        "while num>= 0:\n",
        "  print(num)\n",
        "  num= num-1"
      ]
    },
    {
      "cell_type": "markdown",
      "metadata": {
        "id": "eqcyZjlLQzPP"
      },
      "source": [
        "#8) Percorrendo um dicionário de notas\n",
        "Dado o dicionário notas = {\"Ana\": 8, \"Carlos\": 7, \"Maria\": 10}, use um for para exibir cada aluno com sua nota."
      ]
    },
    {
      "cell_type": "code",
      "execution_count": null,
      "metadata": {
        "colab": {
          "base_uri": "https://localhost:8080/"
        },
        "id": "P_BEnr6NQ1bR",
        "outputId": "22ee4c61-fb70-4929-b68a-1ec8c216b2dd"
      },
      "outputs": [
        {
          "name": "stdout",
          "output_type": "stream",
          "text": [
            "Ana : 8\n",
            "Carlos : 7\n",
            "Maria : 10\n"
          ]
        }
      ],
      "source": [
        "dici = {\"Ana\": 8, \"Carlos\": 7, \"Maria\": 10}\n",
        "\n",
        "for nome, nota in dici.items():\n",
        "  print(nome,\":\",nota)"
      ]
    },
    {
      "cell_type": "markdown",
      "metadata": {
        "id": "tfPAiRLwRKoj"
      },
      "source": [
        "#9)Filtrar números pares de uma lista\n",
        "\n",
        "Dada a lista numeros = [10, 21, 32, 43, 54], use um for para criar uma nova lista contendo apenas os pares."
      ]
    },
    {
      "cell_type": "code",
      "execution_count": null,
      "metadata": {
        "colab": {
          "base_uri": "https://localhost:8080/"
        },
        "id": "ItvXdjNMRNCW",
        "outputId": "5801f2f4-13e3-4b3c-d17c-4e045e4298b0"
      },
      "outputs": [
        {
          "name": "stdout",
          "output_type": "stream",
          "text": [
            "[10, 32, 54]\n"
          ]
        }
      ],
      "source": [
        "numeros= [10, 21, 32, 43, 54]\n",
        "par=[]\n",
        "\n",
        "for num in numeros:\n",
        "  if num % 2 == 0:\n",
        "    par.append(num)\n",
        "\n",
        "print(par)"
      ]
    },
    {
      "cell_type": "markdown",
      "metadata": {
        "id": "en68VMsPRVgT"
      },
      "source": [
        "#10) Contador de palavras em uma frase\n",
        "Peça ao usuário uma frase, divida em palavras (split()) e use um dicionário para contar quantas vezes cada palavra aparece.\n",
        "Com manipulação de listas, tuplas e dicionários:"
      ]
    },
    {
      "cell_type": "code",
      "execution_count": null,
      "metadata": {
        "colab": {
          "base_uri": "https://localhost:8080/"
        },
        "id": "MeAJqyrkRXXv",
        "outputId": "3434bb7c-f959-41cf-d319-5340d48e17e4"
      },
      "outputs": [
        {
          "name": "stdout",
          "output_type": "stream",
          "text": [
            "Digite uma frase: arroz com feijao e com carne\n",
            "A Palavra arroz Apareceu 1 Vezes\n",
            "A Palavra com Apareceu 2 Vezes\n",
            "A Palavra feijao Apareceu 1 Vezes\n",
            "A Palavra e Apareceu 1 Vezes\n",
            "A Palavra carne Apareceu 1 Vezes\n"
          ]
        }
      ],
      "source": [
        "frase= str(input(\"Digite uma frase: \"))\n",
        "frase= frase.split(\" \")\n",
        "cont= {}\n",
        "\n",
        "for palavra in frase:\n",
        "  if palavra in cont:\n",
        "    cont[palavra]= cont[palavra]+1\n",
        "  else:\n",
        "    cont[palavra]= 1\n",
        "\n",
        "for palavra, quantidade in cont.items():\n",
        "  print(\"A Palavra\",palavra,\"Apareceu\",quantidade,\"Vezes\")"
      ]
    },
    {
      "cell_type": "markdown",
      "metadata": {
        "id": "CzUH7eJ2RlRe"
      },
      "source": [
        "#1) Tuplas - Acesso e Desempacotamento\n",
        "Crie uma tupla contendo três tipos diferentes de dados: um número, uma string e uma lista. Use um laço de repetição para acessar e imprimir cada item da tupla. Além disso, dentro do laço, acesse e imprima o segundo item da lista que está dentro da tupla."
      ]
    },
    {
      "cell_type": "code",
      "execution_count": null,
      "metadata": {
        "colab": {
          "base_uri": "https://localhost:8080/"
        },
        "id": "RIj7LIerRsYu",
        "outputId": "21b54306-2a73-4ae3-e4ce-cb690d9bc296"
      },
      "outputs": [
        {
          "name": "stdout",
          "output_type": "stream",
          "text": [
            "1\n",
            "2\n",
            "Arroz\n",
            "2\n",
            "[1, 2, 3]\n",
            "2\n"
          ]
        }
      ],
      "source": [
        "tupla= (1, \"Arroz\", [1,2,3])\n",
        "\n",
        "for item in tupla:\n",
        "  print(item)\n",
        "  print(tupla[2][1])"
      ]
    },
    {
      "cell_type": "markdown",
      "metadata": {
        "id": "xqz6XQWHSM7q"
      },
      "source": [
        "#2) Cadastro de Pessoas e Análise de Alturas\n",
        "Solicite ao usuário para inserir o nome e a altura de várias pessoas. Preencha um dicionário com essas informações e depois encontre e imprima o nome e a altura da pessoa mais alta e da mais baixa.\n"
      ]
    },
    {
      "cell_type": "code",
      "execution_count": 73,
      "metadata": {
        "colab": {
          "base_uri": "https://localhost:8080/"
        },
        "id": "1kBTAY9hSQNs",
        "outputId": "a0ea1a51-bac7-4be6-f8ae-7200df9272e4"
      },
      "outputs": [
        {
          "output_type": "stream",
          "name": "stdout",
          "text": [
            "Digite quantas pessoas você quer cadastrar: 3\n",
            "Digite o nome da 1ª pessoa: Ana\n",
            "Digite a altura de Ana em metros: 1.58\n",
            "Digite o nome da 2ª pessoa: Luara\n",
            "Digite a altura de Luara em metros: 1.60\n",
            "Digite o nome da 3ª pessoa: Luiz \n",
            "Digite a altura de Luiz  em metros: 1.90\n",
            "Pessoa mais alta é o/a Luiz  com 1.9 m\n",
            "Pessoa mais baixa é o/a Ana com 1.58 m\n"
          ]
        }
      ],
      "source": [
        "pessoas = {}\n",
        "qtd = int(input(\"Digite quantas pessoas você quer cadastrar: \"))\n",
        "\n",
        "i = 0\n",
        "while i < qtd:\n",
        "    nome = input(f\"Digite o nome da {i+1}ª pessoa: \")\n",
        "    altura = float(input(f\"Digite a altura de {nome} em metros: \"))\n",
        "    pessoas[nome] = altura\n",
        "    i= i+1\n",
        "nomes = list(pessoas.keys())\n",
        "alto = nomes[0]\n",
        "baixo = nomes[0]\n",
        "for nome in pessoas:\n",
        "    if pessoas[nome] > pessoas[alto]:\n",
        "        alto = nome\n",
        "    if pessoas[nome] < pessoas[baixo]:\n",
        "        baixo = nome\n",
        "\n",
        "print(f\"Pessoa mais alta é o/a {alto} com {pessoas[alto]} m\")\n",
        "print(f\"Pessoa mais baixa é o/a {baixo} com {pessoas[baixo]} m\")"
      ]
    },
    {
      "cell_type": "markdown",
      "source": [
        "#3) Lista, laços e Condicionais\n",
        "Descrição: Crie uma lista com cinco números inteiros. Use um laço de repetição e uma condicional para imprimir apenas os números que são múltiplos de 3.\n"
      ],
      "metadata": {
        "id": "JFY7rPWZXRtZ"
      }
    },
    {
      "cell_type": "code",
      "source": [
        "lista= [15,3,2,6,10]\n",
        "\n",
        "for n in lista:\n",
        "  if n % 3 == 0:\n",
        "    print(n)"
      ],
      "metadata": {
        "colab": {
          "base_uri": "https://localhost:8080/"
        },
        "id": "2V3gq6KcXS-L",
        "outputId": "54c2b54a-7eeb-4bf9-a29c-17444ef31750"
      },
      "execution_count": 7,
      "outputs": [
        {
          "output_type": "stream",
          "name": "stdout",
          "text": [
            "15\n",
            "3\n",
            "6\n"
          ]
        }
      ]
    },
    {
      "cell_type": "markdown",
      "source": [
        "#4) Manipulação de Strings e Condicionais\n",
        "Descrição: Crie uma string com uma frase. Use uma condicional para verificar se a frase contém a palavra \"Python\". Se sim, substitua a palavra \"Python\" por \"programação\" e imprima a nova frase."
      ],
      "metadata": {
        "id": "fAMtiRA5YPs-"
      }
    },
    {
      "cell_type": "code",
      "source": [
        "frase= \"Eu amo python\"\n",
        "frase_n= \" \"\n",
        "\n",
        "if \"python\" in frase:\n",
        "  frase= frase.replace(\"python\", \"programação\")\n",
        "  frase_n= frase\n",
        "print(frase_n)"
      ],
      "metadata": {
        "colab": {
          "base_uri": "https://localhost:8080/"
        },
        "id": "0DZ_63mHYWP5",
        "outputId": "91dab708-0312-4b4b-e59f-5bf85d0caa57"
      },
      "execution_count": 17,
      "outputs": [
        {
          "output_type": "stream",
          "name": "stdout",
          "text": [
            "Eu amo programação\n"
          ]
        }
      ]
    },
    {
      "cell_type": "markdown",
      "source": [
        "#5) Simulação de Alfândega com Cadastro Dinâmico de Itens usando dicionário\n",
        "Simule uma situação de alfândega onde o funcionário cadastra itens novos encontrados na mala de uma pessoa que veio de uma viagem internacional. Após o cadastro de todos os itens, o programa imprime uma nota com todos os itens e seus preços, calcula o valor total e, se o valor total ultrapassar 500 dólares, calcula o valor de 60% a ser pago.\n",
        "\n"
      ],
      "metadata": {
        "id": "KPsMLQzhZ3Hq"
      }
    },
    {
      "cell_type": "code",
      "source": [
        "item= {}\n",
        "total= 0\n",
        "qtd= int(input(\"Digite quantos itens deseja cadastrar: \"))\n",
        "\n",
        "for items in range(qtd):\n",
        "  nome= str(input(f\"Digite o nome do {items+1}º Item: \"))\n",
        "  preco= float(input(\"Digite o preço em Doláres: \"))\n",
        "  item[nome]= preco\n",
        "\n",
        "for nome, p in item.items():\n",
        "  total= total+p\n",
        "if total > 500:\n",
        "  imp= total*60/100\n",
        "  total= imp+total\n",
        "  print(\"Tem impostos de valor de $\", imp,\", o valor total é de $\",total)\n",
        "else:\n",
        "  print(\"Não tem impostos a se pagar\")"
      ],
      "metadata": {
        "colab": {
          "base_uri": "https://localhost:8080/"
        },
        "id": "JDpr9s7tZ5le",
        "outputId": "0f1da023-f311-44e2-94a0-43a0f7ab6c72"
      },
      "execution_count": 42,
      "outputs": [
        {
          "output_type": "stream",
          "name": "stdout",
          "text": [
            "Digite quantos itens deseja cadastrar: 3\n",
            "Digite o nome do 1º Item: Caneta\n",
            "Digite o preço em Doláres: 20\n",
            "Digite o nome do 2º Item: Celular\n",
            "Digite o preço em Doláres: 250\n",
            "Digite o nome do 3º Item: Fone\n",
            "Digite o preço em Doláres: 235\n",
            "Tem impostos de valor de $ 303.0 , o valor total é de $ 808.0\n"
          ]
        }
      ]
    },
    {
      "cell_type": "markdown",
      "source": [
        "#6) Identificação de Palavras Negativas em um Texto\n",
        "Você vai criar um programa em Python para analisar um texto e identificar palavras que expressam pensamentos negativos. Para isso, você usará uma lista de palavras negativas fornecida e verificará quais dessas palavras estão presentes no texto fornecido pelo usuário. Exemplo de palavras negtivas, acrescente mais na lista: # Lista de palavras negativas palavras_negativas = ['triste', 'deprimido', 'ansioso', 'desapontado', 'frustrado']"
      ],
      "metadata": {
        "id": "nxGMpbw7gvY4"
      }
    },
    {
      "cell_type": "code",
      "source": [
        "palavras_negativas = ['triste', 'deprimido', 'ansioso', 'desapontado', 'frustrado']\n",
        "usu= str(input(\"Digite uma frase: \")).lower()\n",
        "acho= []\n",
        "\n",
        "for palavra in palavras_negativas:\n",
        "  if palavra in usu:\n",
        "    acho.append(palavra)\n",
        "\n",
        "if acho != []:\n",
        "  print(\"Palavras negativas achadas: \")\n",
        "  for p in acho:\n",
        "    print(p)\n",
        "else:\n",
        "  print(\"Nenhuma palavra achada!\")"
      ],
      "metadata": {
        "colab": {
          "base_uri": "https://localhost:8080/"
        },
        "id": "Q2c1oP2TgyoQ",
        "outputId": "87b81650-f284-4db4-b941-20e6878977ff"
      },
      "execution_count": 72,
      "outputs": [
        {
          "output_type": "stream",
          "name": "stdout",
          "text": [
            "Digite uma frase: estou feliz\n",
            "Nenhuma palavra achada!\n"
          ]
        }
      ]
    }
  ],
  "metadata": {
    "colab": {
      "provenance": [],
      "authorship_tag": "ABX9TyNT+ncOUfH9ZgxqMLZ1VAa+",
      "include_colab_link": true
    },
    "kernelspec": {
      "display_name": "Python 3",
      "name": "python3"
    },
    "language_info": {
      "name": "python"
    }
  },
  "nbformat": 4,
  "nbformat_minor": 0
}