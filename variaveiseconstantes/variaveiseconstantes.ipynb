{
  "nbformat": 4,
  "nbformat_minor": 0,
  "metadata": {
    "colab": {
      "provenance": [],
      "authorship_tag": "ABX9TyMIa40fnIRKD92eB1Gjfkkx",
      "include_colab_link": true
    },
    "kernelspec": {
      "name": "python3",
      "display_name": "Python 3"
    },
    "language_info": {
      "name": "python"
    }
  },
  "cells": [
    {
      "cell_type": "markdown",
      "metadata": {
        "id": "view-in-github",
        "colab_type": "text"
      },
      "source": [
        "<a href=\"https://colab.research.google.com/github/JoaoGabini/PA2025/blob/main/variaveiseconstantes/variaveiseconstantes.ipynb\" target=\"_parent\"><img src=\"https://colab.research.google.com/assets/colab-badge.svg\" alt=\"Open In Colab\"/></a>"
      ]
    },
    {
      "cell_type": "markdown",
      "source": [
        "# Variáveis e Constantes"
      ],
      "metadata": {
        "id": "o1lPhjpRgQzi"
      }
    },
    {
      "cell_type": "code",
      "execution_count": null,
      "metadata": {
        "id": "AjcDhyiuf7_h"
      },
      "outputs": [],
      "source": [
        "#Variáveis\n",
        "#Inteiro\n",
        "idade = 15\n",
        "#Float\n",
        "altura = 1.85\n",
        "#String\n",
        "nome = \"João Pedro\"\n",
        "#Booleano\n",
        "vai = True"
      ]
    },
    {
      "cell_type": "code",
      "source": [
        "#Variáveis2\n",
        "#Lista\n",
        "nomes = [\"João Pedro\",\"Tereza\",\"Roberto\",\"Luana\"]\n",
        "#Tupla\n",
        "nomes2 = (\"João Pedro\",\"Tereza\",\"Roberto\",\"Luana\")\n",
        "#Dicionário\n",
        "tudo = {nome:\"João Pedro\",idade:15,altura:1.85}"
      ],
      "metadata": {
        "id": "8cdwnoHFiYlT"
      },
      "execution_count": null,
      "outputs": []
    },
    {
      "cell_type": "code",
      "source": [
        "#Resultado\n",
        "print(nome)\n",
        "print(nomes)\n",
        "print(nomes2)\n",
        "print(tudo)"
      ],
      "metadata": {
        "colab": {
          "base_uri": "https://localhost:8080/"
        },
        "id": "gCF9xN4KjLrR",
        "outputId": "e92cccc0-9abc-4211-b3da-cfffb8e09816"
      },
      "execution_count": null,
      "outputs": [
        {
          "output_type": "stream",
          "name": "stdout",
          "text": [
            "João Pedro\n",
            "['João Pedro', 'Tereza', 'Roberto', 'Luana']\n",
            "('João Pedro', 'Tereza', 'Roberto', 'Luana')\n",
            "{'João Pedro': 'João Pedro', 15: 15, 1.85: 1.85}\n"
          ]
        }
      ]
    },
    {
      "cell_type": "code",
      "source": [
        "print(type(idade))\n",
        "print(type(altura))\n",
        "print(type(vai))\n",
        "print(type(nome))\n",
        "print(type(nomes))\n",
        "print(type(nomes2))\n",
        "print(type(tudo))"
      ],
      "metadata": {
        "colab": {
          "base_uri": "https://localhost:8080/"
        },
        "id": "ABf06-9MkSfh",
        "outputId": "ba2bce31-a1b5-4871-ff81-b5f624a83c56"
      },
      "execution_count": null,
      "outputs": [
        {
          "output_type": "stream",
          "name": "stdout",
          "text": [
            "<class 'int'>\n",
            "<class 'float'>\n",
            "<class 'bool'>\n",
            "<class 'str'>\n",
            "<class 'list'>\n",
            "<class 'tuple'>\n",
            "<class 'dict'>\n"
          ]
        }
      ]
    },
    {
      "cell_type": "code",
      "source": [
        "print(\"O nome dele é\", nome, \", sua idade é\", idade, \", a altura dele é\", altura)"
      ],
      "metadata": {
        "colab": {
          "base_uri": "https://localhost:8080/"
        },
        "id": "cg3-QKkmpOFr",
        "outputId": "7b8e85a3-9716-4921-c510-e61c27b81c11"
      },
      "execution_count": null,
      "outputs": [
        {
          "output_type": "stream",
          "name": "stdout",
          "text": [
            "O nome dele é João Pedro , sua idade é 15 , a altura dele é 1.85\n"
          ]
        }
      ]
    },
    {
      "cell_type": "code",
      "source": [
        "print(f\"Ele se chama {nome} e a altura dele é {idade}\")"
      ],
      "metadata": {
        "colab": {
          "base_uri": "https://localhost:8080/"
        },
        "id": "7fX5yHsIsbn5",
        "outputId": "ae9873fb-9043-4c1f-b7e2-7b034d81573c"
      },
      "execution_count": null,
      "outputs": [
        {
          "output_type": "stream",
          "name": "stdout",
          "text": [
            "Ele se chama João Pedro e a altura dele é 15\n"
          ]
        }
      ]
    },
    {
      "cell_type": "markdown",
      "source": [
        "# Área do Circulo"
      ],
      "metadata": {
        "id": "2VDjlefWvbmK"
      }
    },
    {
      "cell_type": "code",
      "source": [
        "#Entrada\n",
        "PI = 3.14159\n",
        "raio = float(input(\"Digite o valor do Raio do círculo: \"))"
      ],
      "metadata": {
        "colab": {
          "base_uri": "https://localhost:8080/"
        },
        "id": "LwNX0m4LvkWJ",
        "outputId": "7fa0ede0-25da-4039-a4ea-0a427897e077"
      },
      "execution_count": null,
      "outputs": [
        {
          "name": "stdout",
          "output_type": "stream",
          "text": [
            "Digite o valor do Raio do círculo: 10\n"
          ]
        }
      ]
    },
    {
      "cell_type": "code",
      "source": [
        "#Processamento\n",
        "areacir = PI * (raio**2)"
      ],
      "metadata": {
        "id": "FbasNYVQwCn8"
      },
      "execution_count": null,
      "outputs": []
    },
    {
      "cell_type": "code",
      "source": [
        "#Saída\n",
        "print(f\"A área do círculo é {areacir}\")"
      ],
      "metadata": {
        "colab": {
          "base_uri": "https://localhost:8080/"
        },
        "id": "EmEzSQiKxLgH",
        "outputId": "0af5e914-1e33-4c9a-b4dd-a61ba08ca342"
      },
      "execution_count": null,
      "outputs": [
        {
          "output_type": "stream",
          "name": "stdout",
          "text": [
            "A área do círculo é 314.159\n"
          ]
        }
      ]
    },
    {
      "cell_type": "markdown",
      "source": [
        "# Área do Quadrado"
      ],
      "metadata": {
        "id": "-H28dpXFzqIT"
      }
    },
    {
      "cell_type": "code",
      "source": [
        "#Entrada\n",
        "Lado = float(input(\"Digite o valor do Lado do quadrado: \"))"
      ],
      "metadata": {
        "colab": {
          "base_uri": "https://localhost:8080/"
        },
        "id": "VXmbZ1Vmzr5D",
        "outputId": "bf266bd1-dc04-46e9-f193-87b52a92ffb4"
      },
      "execution_count": null,
      "outputs": [
        {
          "name": "stdout",
          "output_type": "stream",
          "text": [
            "Digite o valor do Lado do quadrado: 66\n"
          ]
        }
      ]
    },
    {
      "cell_type": "code",
      "source": [
        "#Processamento\n",
        "areaqua = Lado * Lado"
      ],
      "metadata": {
        "id": "jIua9V3hz3sb"
      },
      "execution_count": null,
      "outputs": []
    },
    {
      "cell_type": "code",
      "source": [
        "#Saída\n",
        "print(f\"A área do quadrado é {areaqua}\")"
      ],
      "metadata": {
        "colab": {
          "base_uri": "https://localhost:8080/"
        },
        "id": "-DS3sQKx0Fyk",
        "outputId": "4adfec2c-aa7f-4151-851f-b182b8cf958a"
      },
      "execution_count": null,
      "outputs": [
        {
          "output_type": "stream",
          "name": "stdout",
          "text": [
            "A área do quadrado é 4356.0\n"
          ]
        }
      ]
    },
    {
      "cell_type": "markdown",
      "source": [
        "# Exercícios"
      ],
      "metadata": {
        "id": "fV1jURjqowI7"
      }
    },
    {
      "cell_type": "markdown",
      "source": [
        "## Exercício 1 - Área do Retângulo\n",
        "\n",
        "Crie um programa que calcule a área de um retângulo usando uma constante para representar a base.\n",
        "\n",
        " Fórmula: A = base × altura\n",
        "\n"
      ],
      "metadata": {
        "id": "T1Ykho7bo_d4"
      }
    },
    {
      "cell_type": "code",
      "source": [
        "#Entrada\n",
        "Base = float(input(\"Digite o valor da base do retângulo:\"))\n",
        "Altura = float(input(\"Digite o valor da altura do retângulo:\"))"
      ],
      "metadata": {
        "colab": {
          "base_uri": "https://localhost:8080/"
        },
        "id": "TX0iBfwBpYSl",
        "outputId": "962a32c7-e5ce-4544-9efb-80cc313e0888"
      },
      "execution_count": null,
      "outputs": [
        {
          "name": "stdout",
          "output_type": "stream",
          "text": [
            "Digite o valor da base do retângulo:66\n",
            "Digite o valor da altura do retângulo:6\n"
          ]
        }
      ]
    },
    {
      "cell_type": "code",
      "source": [
        "#Processamento\n",
        "arearet = Base * Altura"
      ],
      "metadata": {
        "id": "BxXY_9FOqHZX"
      },
      "execution_count": null,
      "outputs": []
    },
    {
      "cell_type": "code",
      "source": [
        "#Saída\n",
        "print(f\"A área do retângulo é:{arearet}\")"
      ],
      "metadata": {
        "colab": {
          "base_uri": "https://localhost:8080/"
        },
        "id": "yxxxrp9kqPBD",
        "outputId": "af830e7c-b8ba-4961-d6c2-6dde0ee0ef38"
      },
      "execution_count": null,
      "outputs": [
        {
          "output_type": "stream",
          "name": "stdout",
          "text": [
            "A área do retângulo é:396.0\n"
          ]
        }
      ]
    },
    {
      "cell_type": "markdown",
      "source": [
        "##Exercício 2 – Perímetro do Círculo\n",
        "\n",
        "Crie um programa que calcule o perímetro de um círculo usando a constante π.\n",
        "\n",
        " Fórmula: P = 2 × π × r"
      ],
      "metadata": {
        "id": "kUVQ8gRhqzHh"
      }
    },
    {
      "cell_type": "code",
      "source": [
        "#Entrada\n",
        "Raio = float(input(\"Digite o valor do raio do círculo:\"))"
      ],
      "metadata": {
        "colab": {
          "base_uri": "https://localhost:8080/"
        },
        "id": "woMPP6Owq22M",
        "outputId": "56b66f0f-ecb0-457c-e048-232f7b2bc312"
      },
      "execution_count": null,
      "outputs": [
        {
          "name": "stdout",
          "output_type": "stream",
          "text": [
            "Digite o valor do raio do círculo:6\n"
          ]
        }
      ]
    },
    {
      "cell_type": "code",
      "source": [
        "#Processamento\n",
        "PI = 3.1416\n",
        "areacir = PI * (Raio**2)"
      ],
      "metadata": {
        "id": "4tk1e1YyrJ44"
      },
      "execution_count": null,
      "outputs": []
    },
    {
      "cell_type": "code",
      "source": [
        "print(f\"O valor do Perímetro do círculo é {areacir:.2f}\")"
      ],
      "metadata": {
        "colab": {
          "base_uri": "https://localhost:8080/"
        },
        "id": "SxZ0L7d3r9TK",
        "outputId": "9e5658e2-5503-4550-863f-056232b3de60"
      },
      "execution_count": null,
      "outputs": [
        {
          "output_type": "stream",
          "name": "stdout",
          "text": [
            "O valor do Perímetro do círculo é 113.10\n"
          ]
        }
      ]
    },
    {
      "cell_type": "markdown",
      "source": [
        "##Exercício 3 – Conversão de Temperatura\n",
        "\n",
        "Crie um programa que converta uma temperatura de Fahrenheit para Celsius.\n",
        "\n",
        " Fórmula: C = (F - 32) × 5/9"
      ],
      "metadata": {
        "id": "Fe-Fq4CBtM5b"
      }
    },
    {
      "cell_type": "code",
      "source": [
        "#Entrada\n",
        "Fahrenheit = float(input(\"Digite a temperatura em Fahrenheit:\"))"
      ],
      "metadata": {
        "colab": {
          "base_uri": "https://localhost:8080/"
        },
        "id": "K1ga7X3Qtf_-",
        "outputId": "bce0da08-078e-4b74-cefc-1af757eb2d3c"
      },
      "execution_count": null,
      "outputs": [
        {
          "name": "stdout",
          "output_type": "stream",
          "text": [
            "Digite a temperatura em Fahrenheit:89\n"
          ]
        }
      ]
    },
    {
      "cell_type": "code",
      "source": [
        "#Processamento\n",
        "Celsius = (Fahrenheit - 32) * 5/9"
      ],
      "metadata": {
        "id": "nqZwDfk_uLfN"
      },
      "execution_count": null,
      "outputs": []
    },
    {
      "cell_type": "code",
      "source": [
        "#Saída\n",
        "print(f\"A temperatura em Graus Celsius é {Celsius:.2f}\")"
      ],
      "metadata": {
        "colab": {
          "base_uri": "https://localhost:8080/"
        },
        "id": "siS3YWkUusiq",
        "outputId": "4e989ba8-4c16-4e77-b078-2073f5fc5982"
      },
      "execution_count": null,
      "outputs": [
        {
          "output_type": "stream",
          "name": "stdout",
          "text": [
            "A temperatura em Graus Celsius é 31.67\n"
          ]
        }
      ]
    },
    {
      "cell_type": "markdown",
      "source": [
        "##Exercício 4 – Cálculo do IMC\n",
        "\n",
        "Crie um programa que calcule o Índice de Massa Corporal (IMC) de uma pessoa.\n",
        "\n",
        " Fórmula: IMC = peso / altura²"
      ],
      "metadata": {
        "id": "rBM9xfKqvWwj"
      }
    },
    {
      "cell_type": "code",
      "source": [
        "#Entrada\n",
        "Peso = float(input(\"Digite o seu peso:\"))\n",
        "Altura = float(input(\"Digite a sua altura:\"))"
      ],
      "metadata": {
        "colab": {
          "base_uri": "https://localhost:8080/"
        },
        "id": "ga-dnOdsvZMy",
        "outputId": "f4f5aad2-c0da-4107-ffe5-5430ab281956"
      },
      "execution_count": null,
      "outputs": [
        {
          "name": "stdout",
          "output_type": "stream",
          "text": [
            "Digite o seu peso:70\n",
            "Digite a sua altura:1.85\n"
          ]
        }
      ]
    },
    {
      "cell_type": "code",
      "source": [
        "#Processamento\n",
        "IMC = Peso/Altura**2"
      ],
      "metadata": {
        "id": "R8E1TGRgvrPi"
      },
      "execution_count": null,
      "outputs": []
    },
    {
      "cell_type": "code",
      "source": [
        "print(f\"O seu IMC atual é {IMC:.2f}\")"
      ],
      "metadata": {
        "colab": {
          "base_uri": "https://localhost:8080/"
        },
        "id": "f1nZYWlKvyxU",
        "outputId": "5ad2209b-94ed-4045-a4d1-53da94531dd5"
      },
      "execution_count": null,
      "outputs": [
        {
          "output_type": "stream",
          "name": "stdout",
          "text": [
            "O seu IMC atual é 20.45\n"
          ]
        }
      ]
    }
  ]
}