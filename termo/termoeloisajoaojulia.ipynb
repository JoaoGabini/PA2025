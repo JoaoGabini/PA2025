{
  "nbformat": 4,
  "nbformat_minor": 0,
  "metadata": {
    "colab": {
      "provenance": [],
      "authorship_tag": "ABX9TyOGDEwP67V60+LyKyFoe04A",
      "include_colab_link": true
    },
    "kernelspec": {
      "name": "python3",
      "display_name": "Python 3"
    },
    "language_info": {
      "name": "python"
    }
  },
  "cells": [
    {
      "cell_type": "markdown",
      "metadata": {
        "id": "view-in-github",
        "colab_type": "text"
      },
      "source": [
        "<a href=\"https://colab.research.google.com/github/eloisamendes/PA_2025/blob/main/termo/termo.ipynb\" target=\"_parent\"><img src=\"https://colab.research.google.com/assets/colab-badge.svg\" alt=\"Open In Colab\"/></a>"
      ]
    },
    {
      "cell_type": "code",
      "execution_count": 7,
      "metadata": {
        "colab": {
          "base_uri": "https://localhost:8080/"
        },
        "id": "H-ngLoJ9D_0o",
        "outputId": "ada5a5fd-1c9e-43a8-f873-fbcd989af909"
      },
      "outputs": [
        {
          "output_type": "stream",
          "name": "stdout",
          "text": [
            "Você tem 6 tentativas. Digite um nome com 5 letras: Nunes\n",
            "Resultado:  _ _ _ _ _\n",
            "Você tem 5 tentativas. Digite um nome com 5 letras: livro\n",
            "Resultado:  L I V R O\n",
            "Parabéns! Você acertou a palavra de hoje!\n"
          ]
        }
      ],
      "source": [
        "import random\n",
        "\n",
        "tentativas = 6\n",
        "\n",
        "palavras = ['livro', 'tempo', 'verde', 'ceara', 'nunes', 'rudel', 'mesas', 'mundo', 'amigo', 'amiga', 'sabor', 'brisa', 'porta', 'luzes', 'viver', 'risos']\n",
        "\n",
        "palavra = random.choice(palavras)\n",
        "\n",
        "letras = []\n",
        "for letra in palavra:\n",
        "    letras.append(letra)\n",
        "\n",
        "qtd_letras = len(letras)\n",
        "\n",
        "(f'Tente adivinhar um nome com {qtd_letras} letras!')\n",
        "\n",
        "while tentativas > 0 :\n",
        "    chute = str(input(f'Você tem {tentativas} tentativas. Digite um nome com {qtd_letras} letras: ')).lower()\n",
        "\n",
        "    qtd_chute = len(chute)\n",
        "\n",
        "    while qtd_chute != qtd_letras:\n",
        "        chute = str(input(f'Você tem {tentativas} tentativas. Digite um nome com {qtd_letras} letras: ')).lower()\n",
        "        qtd_chute = len(chute)\n",
        "\n",
        "\n",
        "    resultado = []\n",
        "\n",
        "\n",
        "    for i in range(qtd_letras):\n",
        "        if chute[i] == letras[i]:\n",
        "\n",
        "            resultado.append(chute[i].upper())\n",
        "\n",
        "        elif chute[i] in letras:\n",
        "\n",
        "            resultado.append(chute[i])\n",
        "        else:\n",
        "\n",
        "            resultado.append('_')\n",
        "    tentativas -=1\n",
        "\n",
        "    print('Resultado: ', ' '.join(resultado))\n",
        "\n",
        "    if chute == palavra:\n",
        "        print('Parabéns! Você acertou a palavra de hoje!')\n",
        "\n",
        "        break\n",
        "\n",
        "    if tentativas == 0:\n",
        "        print(f'Você errou! A palavra de hojr era: {palavra}')"
      ]
    }
  ]
}