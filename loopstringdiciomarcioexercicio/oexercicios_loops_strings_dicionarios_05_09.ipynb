{
  "cells": [
    {
      "cell_type": "markdown",
      "metadata": {
        "id": "view-in-github",
        "colab_type": "text"
      },
      "source": [
        "<a href=\"https://colab.research.google.com/github/JoaoGabini/PA2025/blob/main/loopstringdiciomarcioexercicio/oexercicios_loops_strings_dicionarios_05_09.ipynb\" target=\"_parent\"><img src=\"https://colab.research.google.com/assets/colab-badge.svg\" alt=\"Open In Colab\"/></a>"
      ]
    },
    {
      "cell_type": "markdown",
      "id": "50e41763",
      "metadata": {
        "id": "50e41763"
      },
      "source": [
        "# Lista de Exercícios - Python (Loops, Strings e Dicionários)\n",
        "Este notebook contém 15 exercícios para praticar `for`, `while`, manipulação de **strings** e **dicionários`."
      ]
    },
    {
      "cell_type": "markdown",
      "id": "6c5e8da0",
      "metadata": {
        "id": "6c5e8da0"
      },
      "source": [
        "### 1. **Contagem de vogais**: Peça uma palavra e conte quantas vezes cada vogal aparece (usar `for` ou `while`)."
      ]
    },
    {
      "cell_type": "code",
      "execution_count": 7,
      "id": "15f84469",
      "metadata": {
        "id": "15f84469",
        "colab": {
          "base_uri": "https://localhost:8080/"
        },
        "outputId": "4f43260c-b72e-4d7e-e80c-d4549ef047ac"
      },
      "outputs": [
        {
          "output_type": "stream",
          "name": "stdout",
          "text": [
            "Digite uma palavra: peixe\n",
            "{'a': 0, 'e': 2, 'i': 1, 'o': 0, 'u': 0}\n"
          ]
        }
      ],
      "source": [
        "palavra= str(input(\"Digite uma palavra: \")).lower()\n",
        "vogal= \"aeiou\"\n",
        "contagem= {v:0 for v in vogal}\n",
        "for letra in palavra:\n",
        "  if letra in vogal:\n",
        "    contagem[letra] = contagem[letra]+1\n",
        "print(contagem)"
      ]
    },
    {
      "cell_type": "markdown",
      "id": "2446d942",
      "metadata": {
        "id": "2446d942"
      },
      "source": [
        "### 2. **Inversão de string**: Solicite uma frase e mostre-a invertida **sem usar slicing** (`[::-1]` não vale). Use `while`."
      ]
    },
    {
      "cell_type": "code",
      "execution_count": 9,
      "id": "4bd947d4",
      "metadata": {
        "id": "4bd947d4",
        "colab": {
          "base_uri": "https://localhost:8080/"
        },
        "outputId": "883c2be8-6260-4c7e-8e06-d9172b814810"
      },
      "outputs": [
        {
          "output_type": "stream",
          "name": "stdout",
          "text": [
            "Digite uma frase: arroz\n",
            " zorra\n"
          ]
        }
      ],
      "source": [
        "frase= str(input(\"Digite uma frase: \"))\n",
        "inversa= \" \"\n",
        "i= len(frase)-1\n",
        "\n",
        "while i>= 0:\n",
        "  inversa= inversa + frase[i]\n",
        "  i= i-1\n",
        "print(inversa)"
      ]
    },
    {
      "cell_type": "markdown",
      "id": "096a5b5d",
      "metadata": {
        "id": "096a5b5d"
      },
      "source": [
        "### 3. **Frequência de caracteres**: Dada uma string, crie um dicionário que mostre quantas vezes cada caractere aparece."
      ]
    },
    {
      "cell_type": "code",
      "execution_count": 14,
      "id": "bd28dd49",
      "metadata": {
        "id": "bd28dd49",
        "colab": {
          "base_uri": "https://localhost:8080/"
        },
        "outputId": "4e73761a-6566-40fb-f3c0-02d7bb494fc3"
      },
      "outputs": [
        {
          "output_type": "stream",
          "name": "stdout",
          "text": [
            "Digite uma frase: arroz\n",
            "{'a': 1, 'r': 2, 'o': 1, 'z': 1}\n"
          ]
        }
      ],
      "source": [
        "frase= str(input(\"Digite uma frase: \")).lower().replace(\" \",\"\")\n",
        "rep= {}\n",
        "for letra in frase:\n",
        "  if letra in rep:\n",
        "    rep[letra] += 1\n",
        "  else:\n",
        "    rep[letra] = 1\n",
        "print(rep)"
      ]
    },
    {
      "cell_type": "markdown",
      "id": "d046cc57",
      "metadata": {
        "id": "d046cc57"
      },
      "source": [
        "### 4. **Palavras únicas**: Peça uma frase e mostre as palavras que aparecem **apenas uma vez**."
      ]
    },
    {
      "cell_type": "code",
      "execution_count": 18,
      "id": "092bef79",
      "metadata": {
        "id": "092bef79",
        "colab": {
          "base_uri": "https://localhost:8080/"
        },
        "outputId": "22da3958-cf96-4dee-fcaa-80b1465a150f"
      },
      "outputs": [
        {
          "output_type": "stream",
          "name": "stdout",
          "text": [
            "Digite uma frase: eu amo python, amo javascript, amo html, amo css\n",
            "eu\n",
            "python\n",
            "javascript\n",
            "html\n",
            "css\n"
          ]
        }
      ],
      "source": [
        "frase= str(input(\"Digite uma frase: \")).replace(\",\",\"\").split()\n",
        "for palavra in frase:\n",
        "  if frase.count(palavra)==1:\n",
        "    print(palavra)"
      ]
    },
    {
      "cell_type": "markdown",
      "id": "3ea99323",
      "metadata": {
        "id": "3ea99323"
      },
      "source": [
        "### 5. **Substituição manual**: Peça uma string e duas letras: substitua **manualmente** todas as ocorrências da primeira letra pela segunda, usando laço."
      ]
    },
    {
      "cell_type": "code",
      "execution_count": 21,
      "id": "4d1406be",
      "metadata": {
        "id": "4d1406be",
        "colab": {
          "base_uri": "https://localhost:8080/"
        },
        "outputId": "cc7dd667-e88e-4672-b101-4c3709ea1ab0"
      },
      "outputs": [
        {
          "output_type": "stream",
          "name": "stdout",
          "text": [
            "Digite uma frase: eu amo pipoca\n",
            "Digite uma letra para substituir: o\n",
            "Digite uma letra substituta: a\n",
            "eu ama pipaca\n"
          ]
        }
      ],
      "source": [
        "frase= str(input(\"Digite uma frase: \")).lower()\n",
        "subt= str(input(\"Digite uma letra para substituir: \"))\n",
        "sub= str(input(\"Digite uma letra substituta: \"))\n",
        "fim= \" \"\n",
        "for letra in frase:\n",
        "  if letra == subt:\n",
        "    fim = frase.replace(subt, sub)\n",
        "print(fim)"
      ]
    },
    {
      "cell_type": "markdown",
      "id": "870e9e64",
      "metadata": {
        "id": "870e9e64"
      },
      "source": [
        "### 6. **Palíndromo**: Verifique se uma palavra é um **palíndromo** sem usar funções prontas de reversão."
      ]
    },
    {
      "cell_type": "code",
      "execution_count": 34,
      "id": "87824151",
      "metadata": {
        "id": "87824151",
        "colab": {
          "base_uri": "https://localhost:8080/"
        },
        "outputId": "dc653109-8095-40ff-8fe0-8ee262b8028f"
      },
      "outputs": [
        {
          "output_type": "stream",
          "name": "stdout",
          "text": [
            "Digite uma palavra: arara\n",
            "É Palíndromo\n"
          ]
        }
      ],
      "source": [
        "palavra= str(input(\"Digite uma palavra: \"))\n",
        "inversa= \"\"\n",
        "for letra in palavra:\n",
        "  inversa= letra + inversa\n",
        "if inversa == palavra:\n",
        "  print(\"É Palíndromo\")\n",
        "else:\n",
        "  print(\"Não é Palíndromo\")"
      ]
    },
    {
      "cell_type": "markdown",
      "id": "ce1b0e1f",
      "metadata": {
        "id": "ce1b0e1f"
      },
      "source": [
        "### 7. **Enigma da senha**: Peça uma string e crie uma nova palavra pegando apenas as letras nas **posições ímpares**."
      ]
    },
    {
      "cell_type": "code",
      "execution_count": 38,
      "id": "9fc744d2",
      "metadata": {
        "id": "9fc744d2",
        "colab": {
          "base_uri": "https://localhost:8080/"
        },
        "outputId": "57eabf16-e983-4efe-f8d9-84ae21cd184a"
      },
      "outputs": [
        {
          "output_type": "stream",
          "name": "stdout",
          "text": [
            "Digite uma Senha: par\n",
            " pr\n"
          ]
        }
      ],
      "source": [
        "senha= str(input(\"Digite uma Senha: \"))\n",
        "senha_nova= \" \"\n",
        "\n",
        "for i in range(len(senha)):\n",
        "  if i % 2 ==0:\n",
        "    senha_nova= senha_nova+senha[i]\n",
        "print(senha_nova)"
      ]
    },
    {
      "cell_type": "markdown",
      "id": "42fe1350",
      "metadata": {
        "id": "42fe1350"
      },
      "source": [
        "### 8. **Expansão de abreviações**: Dado um dicionário de abreviações, substitua manualmente cada ocorrência em uma frase.\n",
        "\n",
        "(Ex: (vc: você, blz: beleza ..."
      ]
    },
    {
      "cell_type": "code",
      "execution_count": 41,
      "id": "e63acd2a",
      "metadata": {
        "id": "e63acd2a",
        "colab": {
          "base_uri": "https://localhost:8080/"
        },
        "outputId": "0344a9da-d9db-41fe-ff9d-b9893b4930f1"
      },
      "outputs": [
        {
          "output_type": "stream",
          "name": "stdout",
          "text": [
            "Digite uma mensagem: vc blz vlw pdp q\n",
            "você beleza valeu pode pá que\n"
          ]
        }
      ],
      "source": [
        "dic= {\"vc\":\"você\",\"blz\":\"beleza\",\"vlw\":\"valeu\",\"pdp\": \"pode pá\",\"q\":\"que\"}\n",
        "msg= str(input(\"Digite uma mensagem: \"))\n",
        "for abreviacao in dic:\n",
        "  msg= msg.replace(abreviacao, dic[abreviacao])\n",
        "print(msg)"
      ]
    },
    {
      "cell_type": "markdown",
      "id": "3cf96a02",
      "metadata": {
        "id": "3cf96a02"
      },
      "source": [
        "### 9. **Criptografia simples**: Implemente uma cifra de substituição onde cada letra é trocada pela **próxima no alfabeto** (z → a)."
      ]
    },
    {
      "cell_type": "code",
      "execution_count": 50,
      "id": "c8a0d724",
      "metadata": {
        "id": "c8a0d724",
        "colab": {
          "base_uri": "https://localhost:8080/"
        },
        "outputId": "0828c5ed-bdd1-471e-b670-0638e0e72602"
      },
      "outputs": [
        {
          "output_type": "stream",
          "name": "stdout",
          "text": [
            "Digite uma palavra: abc\n",
            " bcd\n"
          ]
        }
      ],
      "source": [
        "palavra= str(input(\"Digite uma palavra: \"))\n",
        "abc= \"abcdefghijklmnopqrstuvwxyz\"\n",
        "cifra= \"bcdefghijklmnopqrstuvwxyza\"\n",
        "resultado= \" \"\n",
        "\n",
        "for letra in palavra:\n",
        "  if letra in palavra:\n",
        "    resultado= resultado+cifra[abc.index(letra)]\n",
        "  else:\n",
        "    resultado= resultado+letra\n",
        "print(resultado)"
      ]
    },
    {
      "cell_type": "markdown",
      "id": "4897443b",
      "metadata": {
        "id": "4897443b"
      },
      "source": [
        "### 10. **Anagrama**: Verifique se duas palavras são **anagramas**, usando dicionário para contar ocorrências."
      ]
    },
    {
      "cell_type": "code",
      "execution_count": 53,
      "id": "4c53848e",
      "metadata": {
        "id": "4c53848e",
        "colab": {
          "base_uri": "https://localhost:8080/"
        },
        "outputId": "dc2590a6-7905-46dc-e5c0-13be2dc2f04f"
      },
      "outputs": [
        {
          "output_type": "stream",
          "name": "stdout",
          "text": [
            " Digite uma palavra: amor\n",
            " Digite uma palavra: roma\n",
            "É Anagrama\n",
            "{'a': 1, 'm': 1, 'o': 1, 'r': 1}\n",
            "{'r': 1, 'o': 1, 'm': 1, 'a': 1}\n"
          ]
        }
      ],
      "source": [
        "frase = str(input(\" Digite uma palavra: \"))\n",
        "frase1 = str(input(\" Digite uma palavra: \"))\n",
        "contagem= {}\n",
        "contagem1= {}\n",
        "\n",
        "for letra in frase:\n",
        "  if letra in contagem:\n",
        "    contagem[letra]+=1\n",
        "  else:\n",
        "    contagem[letra]= 1\n",
        "for letra in frase1:\n",
        "  if letra in contagem1:\n",
        "    contagem1[letra]+=1\n",
        "  else:\n",
        "    contagem1[letra]= 1\n",
        "if contagem == contagem1:\n",
        "  print(\"É Anagrama\")\n",
        "else:\n",
        "  print(\"Não é Anagrama\")\n",
        "print(contagem)\n",
        "print(contagem1)"
      ]
    }
  ],
  "metadata": {
    "colab": {
      "provenance": [],
      "include_colab_link": true
    },
    "language_info": {
      "name": "python"
    },
    "kernelspec": {
      "name": "python3",
      "display_name": "Python 3"
    }
  },
  "nbformat": 4,
  "nbformat_minor": 5
}