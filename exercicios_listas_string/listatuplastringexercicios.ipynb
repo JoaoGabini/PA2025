{
  "nbformat": 4,
  "nbformat_minor": 0,
  "metadata": {
    "colab": {
      "provenance": [],
      "authorship_tag": "ABX9TyMS2JLoihnccf1i0oPcdumf",
      "include_colab_link": true
    },
    "kernelspec": {
      "name": "python3",
      "display_name": "Python 3"
    },
    "language_info": {
      "name": "python"
    }
  },
  "cells": [
    {
      "cell_type": "markdown",
      "metadata": {
        "id": "view-in-github",
        "colab_type": "text"
      },
      "source": [
        "<a href=\"https://colab.research.google.com/github/JoaoGabini/PA2025/blob/main/exercicios_listas_string/listatuplastringexercicios.ipynb\" target=\"_parent\"><img src=\"https://colab.research.google.com/assets/colab-badge.svg\" alt=\"Open In Colab\"/></a>"
      ]
    },
    {
      "cell_type": "markdown",
      "source": [
        "#Exercícios Manipulação de String\n"
      ],
      "metadata": {
        "id": "zld42gHp3GBB"
      }
    },
    {
      "cell_type": "code",
      "execution_count": 1,
      "metadata": {
        "colab": {
          "base_uri": "https://localhost:8080/"
        },
        "id": "fLMZcwPe11PN",
        "outputId": "b591f007-7f78-49b1-c9bb-d806ae3d1b3c"
      },
      "outputs": [
        {
          "output_type": "stream",
          "name": "stdout",
          "text": [
            "11\n"
          ]
        }
      ],
      "source": [
        "# 1 - Use o método len para imprimir o comprimento da string.\n",
        "x = \"Hello World\"\n",
        "print(len(x))"
      ]
    },
    {
      "cell_type": "code",
      "source": [
        "# 2 - Obtenha o primeiro caractere da string txt.\n",
        "txt = \"Hello World\"\n",
        "x = txt[0]\n",
        "print(x)"
      ],
      "metadata": {
        "colab": {
          "base_uri": "https://localhost:8080/"
        },
        "id": "YUaXa5yU3hZe",
        "outputId": "380694f1-1946-4105-8638-4f6f1d01cce9"
      },
      "execution_count": 2,
      "outputs": [
        {
          "output_type": "stream",
          "name": "stdout",
          "text": [
            "H\n"
          ]
        }
      ]
    },
    {
      "cell_type": "code",
      "source": [
        "# 3 - Obtenha os caracteres do índice 2 ao índice 4 ( llo).\n",
        "txt = \"Hello World\"\n",
        "x = txt[2:5:]\n",
        "print(x)"
      ],
      "metadata": {
        "colab": {
          "base_uri": "https://localhost:8080/"
        },
        "id": "r6ePv1Wx3kwd",
        "outputId": "b3de18fb-7bd3-4fbb-beb7-a791a4e36b5c"
      },
      "execution_count": 3,
      "outputs": [
        {
          "output_type": "stream",
          "name": "stdout",
          "text": [
            "llo\n"
          ]
        }
      ]
    },
    {
      "cell_type": "code",
      "source": [
        "# 4 - Converta o valor de txt para maiúsculas.\n",
        "txt = \"Hello World\"\n",
        "txt = txt.upper()\n",
        "print(txt)"
      ],
      "metadata": {
        "colab": {
          "base_uri": "https://localhost:8080/"
        },
        "id": "Wpmhzh1l3m8h",
        "outputId": "74bc6ced-2bd0-46b6-e233-c65e937464bb"
      },
      "execution_count": 4,
      "outputs": [
        {
          "output_type": "stream",
          "name": "stdout",
          "text": [
            "HELLO WORLD\n"
          ]
        }
      ]
    },
    {
      "cell_type": "code",
      "source": [
        "# 5 - Conte quantas vezes aparece a palavra \"de\" na string abaixo\n",
        "txt = \"Eu gosto de viajar, tomar vinho, de estudar estudar programação, de estudar Python\"\n",
        "txt= txt.count(\"de\")\n",
        "print(txt)"
      ],
      "metadata": {
        "colab": {
          "base_uri": "https://localhost:8080/"
        },
        "id": "NREA3QEP3qR4",
        "outputId": "011628ae-8705-4f82-ea5d-1e176b38afea"
      },
      "execution_count": 5,
      "outputs": [
        {
          "output_type": "stream",
          "name": "stdout",
          "text": [
            "3\n"
          ]
        }
      ]
    },
    {
      "cell_type": "code",
      "source": [
        "# 6 - Separe a frase abaixo toda vez que encontrar um vírgula\n",
        "txt = \"Eu gosto de viajar, tomar vinho, de estudar estudar programação, de estudar Python\"\n",
        "txt= txt.split(\",\")\n",
        "print(txt)"
      ],
      "metadata": {
        "colab": {
          "base_uri": "https://localhost:8080/"
        },
        "id": "bgko8QtN3sI4",
        "outputId": "2b907e6b-ad09-4f26-b297-c63049be0f64"
      },
      "execution_count": 6,
      "outputs": [
        {
          "output_type": "stream",
          "name": "stdout",
          "text": [
            "['Eu gosto de viajar', ' tomar vinho', ' de estudar estudar programação', ' de estudar Python']\n"
          ]
        }
      ]
    },
    {
      "cell_type": "code",
      "source": [
        "#7 - Peça ao usuário uma frase e substitua todas as ocorrências de espaço por “#”.\n",
        "frase= input(\"Digite uma frase: \")\n",
        "frase= frase.replace(\" \", \"#\")\n",
        "print(frase)"
      ],
      "metadata": {
        "colab": {
          "base_uri": "https://localhost:8080/"
        },
        "id": "AM7nysWq3tCK",
        "outputId": "dc9c36f6-157b-451f-f915-46e05af090d3"
      },
      "execution_count": 7,
      "outputs": [
        {
          "output_type": "stream",
          "name": "stdout",
          "text": [
            "Digite uma frase: eu amo pipoca\n",
            "eu#amo#pipoca\n"
          ]
        }
      ]
    },
    {
      "cell_type": "code",
      "source": [
        "# 8 - Faça um programa que retorne True se duas strings lidas do teclado são palíndromas mútuas, ou seja, se uma é igual à outra quando lida de traz para frente ou False, se não forem.\n",
        "# Por exemplo: amor e roma\n",
        "palavra1=input(\"Digite sua Palavra: \").lower()\n",
        "palavra2=input(\"Digite sua Palavra: \").lower()\n",
        "if palavra1 == palavra1[::-1]:\n",
        "  print(\"Sua primeira palavra é palíndroma dela mesma\")\n",
        "elif palavra2 == palavra2[::-1]:\n",
        "  print(\"Sua segunda palavra é palíndroma dela mesma\")\n",
        "elif palavra1 == palavra2:\n",
        "  print(\"São Palíndromas Mútuas\")\n",
        "else:\n",
        "  print(\"Não São Palíndromas\")"
      ],
      "metadata": {
        "colab": {
          "base_uri": "https://localhost:8080/"
        },
        "id": "ux6lDkIO3tJf",
        "outputId": "01c85794-e329-4bfe-da2a-4610eb13cea4"
      },
      "execution_count": 24,
      "outputs": [
        {
          "output_type": "stream",
          "name": "stdout",
          "text": [
            "Digite sua Palavra: amor\n",
            "Digite sua Palavra: gato\n",
            "Não São Palíndromas\n"
          ]
        }
      ]
    },
    {
      "cell_type": "code",
      "source": [
        "# 9- Faça um programa que leia o nome do usuário e mostre o nome de traz para frente, utilizando somente letras maiúsculas.\n",
        "usuario= input(\"Digite o Nome de Usuário: \").upper()\n",
        "usuario= usuario[::-1]\n",
        "print(usuario)"
      ],
      "metadata": {
        "colab": {
          "base_uri": "https://localhost:8080/"
        },
        "id": "MkOP-t2-3tPN",
        "outputId": "312b5a9f-8fa3-41ed-eb88-067e11801729"
      },
      "execution_count": 9,
      "outputs": [
        {
          "output_type": "stream",
          "name": "stdout",
          "text": [
            "Digite o Nome de Usuário: joao\n",
            "OAOJ\n"
          ]
        }
      ]
    },
    {
      "cell_type": "markdown",
      "source": [
        "#Exercícios Listas, Tuplas e Dicionários"
      ],
      "metadata": {
        "id": "n-Q0Y0tg4Fq-"
      }
    },
    {
      "cell_type": "markdown",
      "source": [
        "##Exercício 1: Manipulação de Listas\n",
        "\n",
        "- Defina uma lista com 5 nomes de cidades.\n",
        "- Adicione uma nova cidade ao final da lista.\n",
        "- Remova a segunda cidade da lista.\n",
        "- Imprima a lista resultante."
      ],
      "metadata": {
        "id": "cO-JBaS44m2S"
      }
    },
    {
      "cell_type": "code",
      "source": [
        "lista= [\"Santo André\", \"Paranapiacaba\", \"Itaim Bibi\", \"Fruta de Leite\", \"São Paulo\"]\n",
        "print(lista)"
      ],
      "metadata": {
        "colab": {
          "base_uri": "https://localhost:8080/"
        },
        "id": "mNg_fXef4N_5",
        "outputId": "6862e20a-c8b6-469b-945a-5a2404a32bc3"
      },
      "execution_count": 10,
      "outputs": [
        {
          "output_type": "stream",
          "name": "stdout",
          "text": [
            "['Santo André', 'Paranapiacaba', 'Itaim Bibi', 'Fruta de Leite', 'São Paulo']\n"
          ]
        }
      ]
    },
    {
      "cell_type": "code",
      "source": [
        "lista.append(\"Maceió\")\n",
        "print(lista)"
      ],
      "metadata": {
        "colab": {
          "base_uri": "https://localhost:8080/"
        },
        "id": "pFnr8Yz-4OKl",
        "outputId": "ab181010-d565-4c30-c101-ee4f99ff0053"
      },
      "execution_count": 11,
      "outputs": [
        {
          "output_type": "stream",
          "name": "stdout",
          "text": [
            "['Santo André', 'Paranapiacaba', 'Itaim Bibi', 'Fruta de Leite', 'São Paulo', 'Maceió']\n"
          ]
        }
      ]
    },
    {
      "cell_type": "code",
      "source": [
        "lista.pop(1)\n",
        "print(lista)"
      ],
      "metadata": {
        "colab": {
          "base_uri": "https://localhost:8080/"
        },
        "id": "T_3LOYy74OSH",
        "outputId": "b7805d2f-9883-4cf3-ac22-603496078f5a"
      },
      "execution_count": 12,
      "outputs": [
        {
          "output_type": "stream",
          "name": "stdout",
          "text": [
            "['Santo André', 'Itaim Bibi', 'Fruta de Leite', 'São Paulo', 'Maceió']\n"
          ]
        }
      ]
    },
    {
      "cell_type": "markdown",
      "source": [
        "##Exercício 2: Operações com Tuplas\n",
        "\n",
        "- Defina uma tupla com 4 cores.\n",
        "- Crie uma nova tupla que seja a concatenação da tupla original com outra contendo mais 2 cores.\n",
        "- Imprima a nova tupla."
      ],
      "metadata": {
        "id": "EL53rEog4wLd"
      }
    },
    {
      "cell_type": "code",
      "source": [
        "cores= (\"Amarelo\", \"Roxo\", \"Vermelho\", \"Verde\")\n",
        "print(cores)"
      ],
      "metadata": {
        "colab": {
          "base_uri": "https://localhost:8080/"
        },
        "id": "X1jmoqL-4zDz",
        "outputId": "6b310979-08f9-467a-f888-7f9bc3332913"
      },
      "execution_count": 13,
      "outputs": [
        {
          "output_type": "stream",
          "name": "stdout",
          "text": [
            "('Amarelo', 'Roxo', 'Vermelho', 'Verde')\n"
          ]
        }
      ]
    },
    {
      "cell_type": "code",
      "source": [
        "cores_novas= cores + (\"Preto\", \"Branco\",)\n",
        "print(cores_novas)"
      ],
      "metadata": {
        "colab": {
          "base_uri": "https://localhost:8080/"
        },
        "id": "CQNn5Cv040sD",
        "outputId": "afa28427-bc4b-4e29-93a9-541b48d5ec04"
      },
      "execution_count": 14,
      "outputs": [
        {
          "output_type": "stream",
          "name": "stdout",
          "text": [
            "('Amarelo', 'Roxo', 'Vermelho', 'Verde', 'Preto', 'Branco')\n"
          ]
        }
      ]
    },
    {
      "cell_type": "markdown",
      "source": [
        "##Exercício 3: Dicionários Simples\n",
        "\n",
        "Crie um dicionário para representar um aluno, contendo \"nome\", \"idade\" e \"curso\".\n",
        "- Atualize a idade do aluno.\n",
        "- Adicione uma nova chave \"nota\" com um valor.\n",
        "- Imprima o dicionário atualizado"
      ],
      "metadata": {
        "id": "WaSOAZW448WO"
      }
    },
    {
      "cell_type": "code",
      "source": [
        "dici= {\n",
        "    \"Nome\":\"João\",\n",
        "    \"Idade\": 14,\n",
        "    \"Curso\":\"T.I\"\n",
        "}\n",
        "print(dici)"
      ],
      "metadata": {
        "colab": {
          "base_uri": "https://localhost:8080/"
        },
        "id": "YzRCRknB4-Gt",
        "outputId": "b937bd0c-3438-4e5d-e757-486bf7c0292d"
      },
      "execution_count": 15,
      "outputs": [
        {
          "output_type": "stream",
          "name": "stdout",
          "text": [
            "{'Nome': 'João', 'Idade': 14, 'Curso': 'T.I'}\n"
          ]
        }
      ]
    },
    {
      "cell_type": "code",
      "source": [
        "dici[\"Idade\"]= 15\n",
        "print(dici)"
      ],
      "metadata": {
        "colab": {
          "base_uri": "https://localhost:8080/"
        },
        "id": "DJe7nwlt4_qg",
        "outputId": "2a85ae09-0041-4f95-84ed-d13d8b7e62aa"
      },
      "execution_count": 16,
      "outputs": [
        {
          "output_type": "stream",
          "name": "stdout",
          "text": [
            "{'Nome': 'João', 'Idade': 15, 'Curso': 'T.I'}\n"
          ]
        }
      ]
    },
    {
      "cell_type": "code",
      "source": [
        "dici[\"Nota\"]= \"10\"\n",
        "print(dici)"
      ],
      "metadata": {
        "colab": {
          "base_uri": "https://localhost:8080/"
        },
        "id": "iNPQlil34_xc",
        "outputId": "f2eb7b5a-8b76-4340-9dcd-64dc4b2a148d"
      },
      "execution_count": 17,
      "outputs": [
        {
          "output_type": "stream",
          "name": "stdout",
          "text": [
            "{'Nome': 'João', 'Idade': 15, 'Curso': 'T.I', 'Nota': '10'}\n"
          ]
        }
      ]
    },
    {
      "cell_type": "markdown",
      "source": [
        "##Exercício 4: Listas e Dicionários\n",
        "\n",
        "- Crie uma lista de dicionários, onde cada dicionário representa um produto com as chaves \"nome\" e \"preço\".\n",
        "- Adicione um novo produto à lista.\n",
        "- Atualize o preço do primeiro produto na lista.\n",
        "- Imprima a lista resultante."
      ],
      "metadata": {
        "id": "CjAMNiBt5Oxl"
      }
    },
    {
      "cell_type": "code",
      "source": [
        "dici1= {\n",
        "    \"Produto\":\"Detergente\",\n",
        "    \"Preço\": 3.00\n",
        "}\n",
        "produtos= [dici1]\n",
        "print(produtos)"
      ],
      "metadata": {
        "colab": {
          "base_uri": "https://localhost:8080/"
        },
        "id": "L3SED38T5K74",
        "outputId": "2b763d64-6910-493c-bed2-017a5a54b185"
      },
      "execution_count": 18,
      "outputs": [
        {
          "output_type": "stream",
          "name": "stdout",
          "text": [
            "[{'Produto': 'Detergente', 'Preço': 3.0}]\n"
          ]
        }
      ]
    },
    {
      "cell_type": "code",
      "source": [
        "dici2= {\n",
        "    \"Produto\":\"Sabão em Pó\",\n",
        "    \"Preço\": 16.00\n",
        "}\n",
        "produtos.append(dici2)\n",
        "print(produtos)"
      ],
      "metadata": {
        "colab": {
          "base_uri": "https://localhost:8080/"
        },
        "id": "F_rVmQe35eYl",
        "outputId": "20604791-55a4-4cd1-84eb-db822966d124"
      },
      "execution_count": 19,
      "outputs": [
        {
          "output_type": "stream",
          "name": "stdout",
          "text": [
            "[{'Produto': 'Detergente', 'Preço': 3.0}, {'Produto': 'Sabão em Pó', 'Preço': 16.0}]\n"
          ]
        }
      ]
    },
    {
      "cell_type": "code",
      "source": [
        "dici1[\"Preço\"]= 5.00\n",
        "print(produtos)"
      ],
      "metadata": {
        "colab": {
          "base_uri": "https://localhost:8080/"
        },
        "id": "mYv7ztSv5ehJ",
        "outputId": "aaf60417-b2d3-435e-bb8d-5c4f53a71454"
      },
      "execution_count": 20,
      "outputs": [
        {
          "output_type": "stream",
          "name": "stdout",
          "text": [
            "[{'Produto': 'Detergente', 'Preço': 5.0}, {'Produto': 'Sabão em Pó', 'Preço': 16.0}]\n"
          ]
        }
      ]
    },
    {
      "cell_type": "markdown",
      "source": [
        "##Exercício 5: Analisando uma Lista de Tuplas\n",
        "\n",
        "- Crie uma lista de tuplas, onde cada tupla contém um par (nome, idade).\n",
        "- Encontre e imprima o nome da pessoa mais velha.\n",
        "- Encontre e imprima a idade média das pessoas."
      ],
      "metadata": {
        "id": "cg3-P94R5jrT"
      }
    },
    {
      "cell_type": "code",
      "source": [
        "dados= [(\"Joaquina\", 65), (\"Neusa\", 50), (\"João\", 15), (\"Lavínia\", 7)]\n",
        "print(dados)"
      ],
      "metadata": {
        "colab": {
          "base_uri": "https://localhost:8080/"
        },
        "id": "LXzLFogA5xWp",
        "outputId": "c396cbe3-1c19-415f-d5ab-f795d17a6322"
      },
      "execution_count": 21,
      "outputs": [
        {
          "output_type": "stream",
          "name": "stdout",
          "text": [
            "[('Joaquina', 65), ('Neusa', 50), ('João', 15), ('Lavínia', 7)]\n"
          ]
        }
      ]
    },
    {
      "cell_type": "code",
      "source": [
        "nomevelho= \"\"\n",
        "idadevelha= 0\n",
        "\n",
        "if dados[0][1]> idadevelha:\n",
        "  idadevelha= dados[0][1]\n",
        "  nomevelho= dados[0][0]\n",
        "  if dados[1][1]> idadevelha:\n",
        "    idadevelha= dados[1][1]\n",
        "    nomevelho= dados[1][0]\n",
        "    if dados[2][1]> idadevelha:\n",
        "      idadevelha= dados[2][1]\n",
        "      nomevelho= dados[2][0]\n",
        "      if dados[3][1]> idadvelha:\n",
        "        idadevelha= dados[3][1]\n",
        "        nomevelho= dados[3][0]\n",
        "\n",
        "media= dados[0][1]+dados[1][1]+dados[2][1]+dados[3][1]\n",
        "media= media/len(dados)"
      ],
      "metadata": {
        "id": "0ynr55a85xg-"
      },
      "execution_count": 22,
      "outputs": []
    },
    {
      "cell_type": "code",
      "source": [
        "print(\"A Pessoa mais velha é\", nomevelho,\"com\",idadevelha ,\"anos de idade\")\n",
        "print(\"A média é de\", media)"
      ],
      "metadata": {
        "colab": {
          "base_uri": "https://localhost:8080/"
        },
        "id": "ow2TSvGW5xoa",
        "outputId": "ba88c8e9-52a7-48a7-b354-f0738ddd79cf"
      },
      "execution_count": 23,
      "outputs": [
        {
          "output_type": "stream",
          "name": "stdout",
          "text": [
            "A Pessoa mais velha é Joaquina com 65 anos de idade\n",
            "A média é de 34.25\n"
          ]
        }
      ]
    }
  ]
}